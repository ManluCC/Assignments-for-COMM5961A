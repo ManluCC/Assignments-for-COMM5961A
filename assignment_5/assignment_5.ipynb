{
 "cells": [
  {
   "cell_type": "code",
   "execution_count": null,
   "id": "2d07aa76",
   "metadata": {},
   "outputs": [
    {
     "name": "stdout",
     "output_type": "stream",
     "text": [
      " * Serving Flask app \"__main__\" (lazy loading)\n",
      " * Environment: production\n",
      "\u001b[31m   WARNING: This is a development server. Do not use it in a production deployment.\u001b[0m\n",
      "\u001b[2m   Use a production WSGI server instead.\u001b[0m\n",
      " * Debug mode: off\n"
     ]
    },
    {
     "name": "stderr",
     "output_type": "stream",
     "text": [
      " * Running on http://localhost:9005/ (Press CTRL+C to quit)\n",
      "127.0.0.1 - - [17/Oct/2021 22:07:08] \"\u001b[37mGET / HTTP/1.1\u001b[0m\" 200 -\n"
     ]
    }
   ],
   "source": [
    "from flask import Flask, render_template, redirect, url_for\n",
    "import pandas as pd\n",
    "\n",
    "app = Flask(__name__, static_folder='./static')\n",
    "    \n",
    "@app.route(\"/\")\n",
    "def index():\n",
    "    return render_template('index.html')\n",
    "    \n",
    "@app.route(\"/park\")\n",
    "def park():    \n",
    "    df = pd.read_csv(\"park.csv\")\n",
    "    list = df.to_dict('records')\n",
    "    return render_template('park.html', entries = list)\n",
    "\n",
    "@app.route(\"/museum\")\n",
    "def museum():    \n",
    "    df = pd.read_csv(\"art_museum.csv\",error_bad_lines = False, encoding='gbk',skiprows = 2)\n",
    "    df.drop('序号', axis='columns', inplace=True)\n",
    "    df.rename(columns={'序号.1':'序号'}, inplace=True)\n",
    "    df1 = df.dropna(axis=0)\n",
    "    list = df1.to_dict('records')\n",
    "    return render_template('museum.html', entries = list)\n",
    "\n",
    "@app.errorhandler(404)\n",
    "def page_not_found(e):\n",
    "    return render_template('404.html'), 404\n",
    "\n",
    "if __name__ == '__main__':\n",
    "    app.run('localhost', 9005)"
   ]
  },
  {
   "cell_type": "code",
   "execution_count": null,
   "id": "e3332442",
   "metadata": {},
   "outputs": [],
   "source": []
  }
 ],
 "metadata": {
  "kernelspec": {
   "display_name": "Python 3",
   "language": "python",
   "name": "python3"
  },
  "language_info": {
   "codemirror_mode": {
    "name": "ipython",
    "version": 3
   },
   "file_extension": ".py",
   "mimetype": "text/x-python",
   "name": "python",
   "nbconvert_exporter": "python",
   "pygments_lexer": "ipython3",
   "version": "3.8.8"
  }
 },
 "nbformat": 4,
 "nbformat_minor": 5
}
