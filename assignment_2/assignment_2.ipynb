{
 "cells": [
  {
   "cell_type": "code",
   "execution_count": 50,
   "id": "5a2427be",
   "metadata": {},
   "outputs": [
    {
     "name": "stdout",
     "output_type": "stream",
     "text": [
      "Entry successfully retrieved.\n"
     ]
    },
    {
     "data": {
      "text/html": [
       "<div>\n",
       "<style scoped>\n",
       "    .dataframe tbody tr th:only-of-type {\n",
       "        vertical-align: middle;\n",
       "    }\n",
       "\n",
       "    .dataframe tbody tr th {\n",
       "        vertical-align: top;\n",
       "    }\n",
       "\n",
       "    .dataframe thead th {\n",
       "        text-align: right;\n",
       "    }\n",
       "</style>\n",
       "<table border=\"1\" class=\"dataframe\">\n",
       "  <thead>\n",
       "    <tr style=\"text-align: right;\">\n",
       "      <th></th>\n",
       "      <th>Track ID</th>\n",
       "      <th>Track Name</th>\n",
       "      <th>Album Titles</th>\n",
       "      <th>Media Type</th>\n",
       "      <th>Genres</th>\n",
       "    </tr>\n",
       "  </thead>\n",
       "  <tbody>\n",
       "    <tr>\n",
       "      <th>0</th>\n",
       "      <td>1</td>\n",
       "      <td>For Those About To Rock (We Salute You)</td>\n",
       "      <td>For Those About To Rock We Salute You</td>\n",
       "      <td>MPEG audio file</td>\n",
       "      <td>Rock</td>\n",
       "    </tr>\n",
       "    <tr>\n",
       "      <th>1</th>\n",
       "      <td>2</td>\n",
       "      <td>Balls to the Wall</td>\n",
       "      <td>Balls to the Wall</td>\n",
       "      <td>Protected AAC audio file</td>\n",
       "      <td>Rock</td>\n",
       "    </tr>\n",
       "    <tr>\n",
       "      <th>2</th>\n",
       "      <td>3</td>\n",
       "      <td>Fast As a Shark</td>\n",
       "      <td>Restless and Wild</td>\n",
       "      <td>Protected AAC audio file</td>\n",
       "      <td>Rock</td>\n",
       "    </tr>\n",
       "    <tr>\n",
       "      <th>3</th>\n",
       "      <td>4</td>\n",
       "      <td>Restless and Wild</td>\n",
       "      <td>Restless and Wild</td>\n",
       "      <td>Protected AAC audio file</td>\n",
       "      <td>Rock</td>\n",
       "    </tr>\n",
       "    <tr>\n",
       "      <th>4</th>\n",
       "      <td>5</td>\n",
       "      <td>Princess of the Dawn</td>\n",
       "      <td>Restless and Wild</td>\n",
       "      <td>Protected AAC audio file</td>\n",
       "      <td>Rock</td>\n",
       "    </tr>\n",
       "    <tr>\n",
       "      <th>...</th>\n",
       "      <td>...</td>\n",
       "      <td>...</td>\n",
       "      <td>...</td>\n",
       "      <td>...</td>\n",
       "      <td>...</td>\n",
       "    </tr>\n",
       "    <tr>\n",
       "      <th>3498</th>\n",
       "      <td>3499</td>\n",
       "      <td>Pini Di Roma (Pinien Von Rom) \\ I Pini Della V...</td>\n",
       "      <td>Respighi:Pines of Rome</td>\n",
       "      <td>Protected AAC audio file</td>\n",
       "      <td>Classical</td>\n",
       "    </tr>\n",
       "    <tr>\n",
       "      <th>3499</th>\n",
       "      <td>3500</td>\n",
       "      <td>String Quartet No. 12 in C Minor, D. 703 \"Quar...</td>\n",
       "      <td>Schubert: The Late String Quartets &amp; String Qu...</td>\n",
       "      <td>Protected AAC audio file</td>\n",
       "      <td>Classical</td>\n",
       "    </tr>\n",
       "    <tr>\n",
       "      <th>3500</th>\n",
       "      <td>3501</td>\n",
       "      <td>L'orfeo, Act 3, Sinfonia (Orchestra)</td>\n",
       "      <td>Monteverdi: L'Orfeo</td>\n",
       "      <td>Protected AAC audio file</td>\n",
       "      <td>Classical</td>\n",
       "    </tr>\n",
       "    <tr>\n",
       "      <th>3501</th>\n",
       "      <td>3502</td>\n",
       "      <td>Quintet for Horn, Violin, 2 Violas, and Cello ...</td>\n",
       "      <td>Mozart: Chamber Music</td>\n",
       "      <td>Protected AAC audio file</td>\n",
       "      <td>Classical</td>\n",
       "    </tr>\n",
       "    <tr>\n",
       "      <th>3502</th>\n",
       "      <td>3451</td>\n",
       "      <td>Die Zauberflöte, K.620: \"Der Hölle Rache Kocht...</td>\n",
       "      <td>Mozart Gala: Famous Arias</td>\n",
       "      <td>Protected AAC audio file</td>\n",
       "      <td>Opera</td>\n",
       "    </tr>\n",
       "  </tbody>\n",
       "</table>\n",
       "<p>3503 rows × 5 columns</p>\n",
       "</div>"
      ],
      "text/plain": [
       "      Track ID                                         Track Name  \\\n",
       "0            1            For Those About To Rock (We Salute You)   \n",
       "1            2                                  Balls to the Wall   \n",
       "2            3                                    Fast As a Shark   \n",
       "3            4                                  Restless and Wild   \n",
       "4            5                               Princess of the Dawn   \n",
       "...        ...                                                ...   \n",
       "3498      3499  Pini Di Roma (Pinien Von Rom) \\ I Pini Della V...   \n",
       "3499      3500  String Quartet No. 12 in C Minor, D. 703 \"Quar...   \n",
       "3500      3501               L'orfeo, Act 3, Sinfonia (Orchestra)   \n",
       "3501      3502  Quintet for Horn, Violin, 2 Violas, and Cello ...   \n",
       "3502      3451  Die Zauberflöte, K.620: \"Der Hölle Rache Kocht...   \n",
       "\n",
       "                                           Album Titles  \\\n",
       "0                 For Those About To Rock We Salute You   \n",
       "1                                     Balls to the Wall   \n",
       "2                                     Restless and Wild   \n",
       "3                                     Restless and Wild   \n",
       "4                                     Restless and Wild   \n",
       "...                                                 ...   \n",
       "3498                             Respighi:Pines of Rome   \n",
       "3499  Schubert: The Late String Quartets & String Qu...   \n",
       "3500                                Monteverdi: L'Orfeo   \n",
       "3501                              Mozart: Chamber Music   \n",
       "3502                          Mozart Gala: Famous Arias   \n",
       "\n",
       "                    Media Type     Genres  \n",
       "0              MPEG audio file       Rock  \n",
       "1     Protected AAC audio file       Rock  \n",
       "2     Protected AAC audio file       Rock  \n",
       "3     Protected AAC audio file       Rock  \n",
       "4     Protected AAC audio file       Rock  \n",
       "...                        ...        ...  \n",
       "3498  Protected AAC audio file  Classical  \n",
       "3499  Protected AAC audio file  Classical  \n",
       "3500  Protected AAC audio file  Classical  \n",
       "3501  Protected AAC audio file  Classical  \n",
       "3502  Protected AAC audio file      Opera  \n",
       "\n",
       "[3503 rows x 5 columns]"
      ]
     },
     "execution_count": 50,
     "metadata": {},
     "output_type": "execute_result"
    }
   ],
   "source": [
    "import pandas as pd\n",
    "import sqlite3  \n",
    "con = sqlite3.connect('chinook.db') \n",
    "cursor = con.cursor() \n",
    "sql = \"SELECT trackid,tracks.name,albums.Title AS album,media_types.Name AS media,genres.Name AS genres FROM tracks INNER JOIN albums ON Albums.AlbumId = tracks.AlbumId INNER JOIN media_types ON media_types.MediaTypeId = tracks.MediaTypeId INNER JOIN genres ON genres.GenreId = tracks.GenreId;\"   \n",
    "try:\n",
    "    cursor.execute(sql)\n",
    "    con.commit()\n",
    "    print(\"Entry successfully retrieved.\")\n",
    "except Exception as e:\n",
    "    print(\"Exception occurred.\",e)\n",
    "result = cursor.fetchall()\n",
    "con.close()\n",
    "df = pd.DataFrame(result, columns=[ \n",
    "'Track ID','Track Name','Album Titles','Media Type','Genres'\n",
    "  ])\n",
    "df"
   ]
  },
  {
   "cell_type": "code",
   "execution_count": 52,
   "id": "76f9f357",
   "metadata": {},
   "outputs": [],
   "source": [
    "import pandas as pd\n",
    "import sqlite3  \n",
    "con = sqlite3.connect('new_track.db') \n",
    "cursor = con.cursor() \n",
    "df.to_sql('new_track', con, if_exists='replace', index = False)\n",
    "con.commit()"
   ]
  },
  {
   "cell_type": "code",
   "execution_count": 55,
   "id": "7d1096e3",
   "metadata": {},
   "outputs": [
    {
     "name": "stdout",
     "output_type": "stream",
     "text": [
      "Entry successfully retrieved.\n"
     ]
    },
    {
     "data": {
      "text/html": [
       "<div>\n",
       "<style scoped>\n",
       "    .dataframe tbody tr th:only-of-type {\n",
       "        vertical-align: middle;\n",
       "    }\n",
       "\n",
       "    .dataframe tbody tr th {\n",
       "        vertical-align: top;\n",
       "    }\n",
       "\n",
       "    .dataframe thead th {\n",
       "        text-align: right;\n",
       "    }\n",
       "</style>\n",
       "<table border=\"1\" class=\"dataframe\">\n",
       "  <thead>\n",
       "    <tr style=\"text-align: right;\">\n",
       "      <th></th>\n",
       "      <th>Genres</th>\n",
       "      <th>Count</th>\n",
       "    </tr>\n",
       "  </thead>\n",
       "  <tbody>\n",
       "    <tr>\n",
       "      <th>0</th>\n",
       "      <td>Rock</td>\n",
       "      <td>1297</td>\n",
       "    </tr>\n",
       "    <tr>\n",
       "      <th>1</th>\n",
       "      <td>Latin</td>\n",
       "      <td>579</td>\n",
       "    </tr>\n",
       "    <tr>\n",
       "      <th>2</th>\n",
       "      <td>Metal</td>\n",
       "      <td>374</td>\n",
       "    </tr>\n",
       "    <tr>\n",
       "      <th>3</th>\n",
       "      <td>Alternative &amp; Punk</td>\n",
       "      <td>332</td>\n",
       "    </tr>\n",
       "    <tr>\n",
       "      <th>4</th>\n",
       "      <td>Jazz</td>\n",
       "      <td>130</td>\n",
       "    </tr>\n",
       "    <tr>\n",
       "      <th>5</th>\n",
       "      <td>TV Shows</td>\n",
       "      <td>93</td>\n",
       "    </tr>\n",
       "    <tr>\n",
       "      <th>6</th>\n",
       "      <td>Blues</td>\n",
       "      <td>81</td>\n",
       "    </tr>\n",
       "    <tr>\n",
       "      <th>7</th>\n",
       "      <td>Classical</td>\n",
       "      <td>74</td>\n",
       "    </tr>\n",
       "    <tr>\n",
       "      <th>8</th>\n",
       "      <td>Drama</td>\n",
       "      <td>64</td>\n",
       "    </tr>\n",
       "    <tr>\n",
       "      <th>9</th>\n",
       "      <td>R&amp;B/Soul</td>\n",
       "      <td>61</td>\n",
       "    </tr>\n",
       "  </tbody>\n",
       "</table>\n",
       "</div>"
      ],
      "text/plain": [
       "               Genres  Count\n",
       "0                Rock   1297\n",
       "1               Latin    579\n",
       "2               Metal    374\n",
       "3  Alternative & Punk    332\n",
       "4                Jazz    130\n",
       "5            TV Shows     93\n",
       "6               Blues     81\n",
       "7           Classical     74\n",
       "8               Drama     64\n",
       "9            R&B/Soul     61"
      ]
     },
     "execution_count": 55,
     "metadata": {},
     "output_type": "execute_result"
    }
   ],
   "source": [
    "sql = \"SELECT genres, COUNT(*) AS count FROM new_track GROUP BY genres ORDER BY count DESC LIMIT 10;\" \n",
    "try:\n",
    "    cursor.execute(sql)\n",
    "    con.commit()\n",
    "    print(\"Entry successfully retrieved.\")\n",
    "except Exception as e:\n",
    "    print(\"Exception occurred.\",e)\n",
    "result = cursor.fetchall()\n",
    "con.close()\n",
    "df = pd.DataFrame(result, columns=['Genres','Count'])\n",
    "df"
   ]
  },
  {
   "cell_type": "code",
   "execution_count": 137,
   "id": "8881a543",
   "metadata": {},
   "outputs": [
    {
     "data": {
      "image/png": "[encoded data removed]",
      "text/plain": [
       "<Figure size 432x288 with 1 Axes>"
      ]
     },
     "metadata": {
      "needs_background": "light"
     },
     "output_type": "display_data"
    }
   ],
   "source": [
    "from matplotlib import pyplot as plt\n",
    "ax = plt.subplot()\n",
    "ax.set_xticks([0,1,2,3,4,5,6,7,8,9])\n",
    "ax.set_xticklabels(genre, rotation=80)\n",
    "genre = df.Genres\n",
    "count = df.Count\n",
    "plt.bar(range(len(genre)),count)\n",
    "plt.show()"
   ]
  },
  {
   "cell_type": "markdown",
   "id": "19da735b",
   "metadata": {},
   "source": [
    "### Method 2 "
   ]
  },
  {
   "cell_type": "code",
   "execution_count": 74,
   "id": "7edc0c7f",
   "metadata": {},
   "outputs": [
    {
     "data": {
      "text/plain": [
       "<AxesSubplot:xlabel='Genres'>"
      ]
     },
     "execution_count": 74,
     "metadata": {},
     "output_type": "execute_result"
    },
    {
     "data": {
      "image/png": "[encoded data removed]",
      "text/plain": [
       "<Figure size 432x288 with 1 Axes>"
      ]
     },
     "metadata": {
      "needs_background": "light"
     },
     "output_type": "display_data"
    }
   ],
   "source": [
    "df.plot(kind='bar',x='Genres',y='Count')"
   ]
  },
  {
   "cell_type": "code",
   "execution_count": null,
   "id": "ba5bf4c8",
   "metadata": {},
   "outputs": [],
   "source": []
  }
 ],
 "metadata": {
  "kernelspec": {
   "display_name": "Python 3",
   "language": "python",
   "name": "python3"
  },
  "language_info": {
   "codemirror_mode": {
    "name": "ipython",
    "version": 3
   },
   "file_extension": ".py",
   "mimetype": "text/x-python",
   "name": "python",
   "nbconvert_exporter": "python",
   "pygments_lexer": "ipython3",
   "version": "3.8.8"
  }
 },
 "nbformat": 4,
 "nbformat_minor": 5
}
